{
  "nbformat": 4,
  "nbformat_minor": 0,
  "metadata": {
    "colab": {
      "name": "Untitled60.ipynb",
      "provenance": [],
      "authorship_tag": "ABX9TyO1vwXPmHNoxY8OVfAIcqFO",
      "include_colab_link": true
    },
    "kernelspec": {
      "name": "python3",
      "display_name": "Python 3"
    }
  },
  "cells": [
    {
      "cell_type": "markdown",
      "metadata": {
        "id": "view-in-github",
        "colab_type": "text"
      },
      "source": [
        "<a href=\"https://colab.research.google.com/github/Avishek2020/A-to-Z-Resources-for-Students/blob/master/Gentice-roughwork.ipynb\" target=\"_parent\"><img src=\"https://colab.research.google.com/assets/colab-badge.svg\" alt=\"Open In Colab\"/></a>"
      ]
    },
    {
      "cell_type": "code",
      "metadata": {
        "id": "fbSQLRSXjkIF",
        "colab_type": "code",
        "colab": {}
      },
      "source": [
        "myOperationRelations = {\n",
        "\t0:{\n",
        "\t\t3:{ \"type\":\"ES\", \"min\":0, \"max\":0, \"weight\":1 }\n",
        "\t},\n",
        "\t4:{\n",
        "\t\t0:{ \"type\":\"ES\", \"min\":5, \"max\":5, \"weight\":1 },\n",
        "\t\t1:{ \"type\":\"EE\", \"min\":5, \"max\":5, \"weight\":1 }\n",
        "\t},\n",
        "\t2:{1:{ \"type\":\"SS\", \"min\":11, \"max\":11, \"weight\":1 }\n",
        "\t}\n",
        "}"
      ],
      "execution_count": null,
      "outputs": []
    },
    {
      "cell_type": "code",
      "metadata": {
        "id": "spZ_5kiTlval",
        "colab_type": "code",
        "colab": {}
      },
      "source": [
        "_parameters = {\n",
        "\t\"resourceCount\": 5,\n",
        "\t\"populationSize\": 200,\n",
        "\t\"survivalRate\": 0.1,\n",
        "\t\"infuseRandomToPopulation\": 0,\n",
        "\t\"crossMaxStep\": 20,\n",
        "\t\"asapAlapMode\": \"normal\",\n",
        "\t\"weightResourceSuccession\": 10,\n",
        "\t\"historyKeep\": False,\n",
        "\t\"historyRetryCount\": 30,\n",
        "\t\"operationDurations\": { 0:5, 1:5, 2:5, 3:5, 4:5 },\n",
        "\t\"operationRelations\": myOperationRelations\n",
        "}"
      ],
      "execution_count": null,
      "outputs": []
    },
    {
      "cell_type": "code",
      "metadata": {
        "id": "px1YMHVfj7HM",
        "colab_type": "code",
        "colab": {
          "base_uri": "https://localhost:8080/",
          "height": 34
        },
        "outputId": "14be16d1-9c07-4991-e55e-a411aa926d5a"
      },
      "source": [
        "operationRelations = {}\n",
        "operationRelations"
      ],
      "execution_count": null,
      "outputs": [
        {
          "output_type": "execute_result",
          "data": {
            "text/plain": [
              "{}"
            ]
          },
          "metadata": {
            "tags": []
          },
          "execution_count": 36
        }
      ]
    },
    {
      "cell_type": "code",
      "metadata": {
        "id": "hzyuqwvp9Fyu",
        "colab_type": "code",
        "colab": {
          "base_uri": "https://localhost:8080/",
          "height": 34
        },
        "outputId": "ab3207a2-aebe-4ed8-cb15-8a49f7b3f64b"
      },
      "source": [
        "resourceCount = int( _parameters[ \"resourceCount\" ] )\n",
        "resourceCount"
      ],
      "execution_count": null,
      "outputs": [
        {
          "output_type": "execute_result",
          "data": {
            "text/plain": [
              "5"
            ]
          },
          "metadata": {
            "tags": []
          },
          "execution_count": 77
        }
      ]
    },
    {
      "cell_type": "code",
      "metadata": {
        "id": "hsvCwn-O9GFe",
        "colab_type": "code",
        "colab": {}
      },
      "source": [
        ""
      ],
      "execution_count": null,
      "outputs": []
    },
    {
      "cell_type": "code",
      "metadata": {
        "id": "gIylLdDUjz2l",
        "colab_type": "code",
        "colab": {
          "base_uri": "https://localhost:8080/",
          "height": 87
        },
        "outputId": "ade27396-9682-47bf-83fa-4c894a2d0056"
      },
      "source": [
        "myOperationRelations"
      ],
      "execution_count": null,
      "outputs": [
        {
          "output_type": "execute_result",
          "data": {
            "text/plain": [
              "{0: {3: {'max': 0, 'min': 0, 'type': 'ES', 'weight': 1}},\n",
              " 2: {1: {'max': 11, 'min': 11, 'type': 'SS', 'weight': 1}},\n",
              " 4: {0: {'max': 5, 'min': 5, 'type': 'ES', 'weight': 1},\n",
              "  1: {'max': 5, 'min': 5, 'type': 'EE', 'weight': 1}}}"
            ]
          },
          "metadata": {
            "tags": []
          },
          "execution_count": 32
        }
      ]
    },
    {
      "cell_type": "code",
      "metadata": {
        "id": "ufaV486NkD-n",
        "colab_type": "code",
        "colab": {}
      },
      "source": [
        "for op2 in _parameters[ \"operationRelations\" ]:\n",
        "    operationRelations[op2] = {}\n",
        "    for op1 in _parameters[ \"operationRelations\" ][ op2 ]:\n",
        "        operationRelations[op2][op1] = dict( _parameters[ \"operationRelations\" ][ op2 ][ op1 ] )\t\t"
      ],
      "execution_count": null,
      "outputs": []
    },
    {
      "cell_type": "code",
      "metadata": {
        "id": "aIQc4GchnHrJ",
        "colab_type": "code",
        "colab": {
          "base_uri": "https://localhost:8080/",
          "height": 87
        },
        "outputId": "c09b9fd0-044c-4396-80bd-6106a141b795"
      },
      "source": [
        "operationRelations"
      ],
      "execution_count": null,
      "outputs": [
        {
          "output_type": "execute_result",
          "data": {
            "text/plain": [
              "{0: {3: {'max': 0, 'min': 0, 'type': 'ES', 'weight': 1}},\n",
              " 2: {1: {'max': 11, 'min': 11, 'type': 'SS', 'weight': 1}},\n",
              " 4: {0: {'max': 5, 'min': 5, 'type': 'ES', 'weight': 1},\n",
              "  1: {'max': 5, 'min': 5, 'type': 'EE', 'weight': 1}}}"
            ]
          },
          "metadata": {
            "tags": []
          },
          "execution_count": 38
        }
      ]
    },
    {
      "cell_type": "code",
      "metadata": {
        "id": "auWMRTeZovXX",
        "colab_type": "code",
        "colab": {
          "base_uri": "https://localhost:8080/",
          "height": 34
        },
        "outputId": "84f27655-e6a2-4070-ccb4-a471b4d571a1"
      },
      "source": [
        "operationRelations[ 4 ][0]"
      ],
      "execution_count": null,
      "outputs": [
        {
          "output_type": "execute_result",
          "data": {
            "text/plain": [
              "{'max': 5, 'min': 5, 'type': 'ES', 'weight': 1}"
            ]
          },
          "metadata": {
            "tags": []
          },
          "execution_count": 61
        }
      ]
    },
    {
      "cell_type": "code",
      "metadata": {
        "id": "GmCQy7xGo61h",
        "colab_type": "code",
        "colab": {
          "base_uri": "https://localhost:8080/",
          "height": 34
        },
        "outputId": "cbb5691e-a860-4256-e542-fed565a3e1f8"
      },
      "source": [
        "op2"
      ],
      "execution_count": null,
      "outputs": [
        {
          "output_type": "execute_result",
          "data": {
            "text/plain": [
              "2"
            ]
          },
          "metadata": {
            "tags": []
          },
          "execution_count": 40
        }
      ]
    },
    {
      "cell_type": "code",
      "metadata": {
        "id": "6hDVMNIBo7fS",
        "colab_type": "code",
        "colab": {
          "base_uri": "https://localhost:8080/",
          "height": 34
        },
        "outputId": "797c8ac2-8d3b-4bac-e85b-aa16cb8b67e1"
      },
      "source": [
        "op1"
      ],
      "execution_count": null,
      "outputs": [
        {
          "output_type": "execute_result",
          "data": {
            "text/plain": [
              "1"
            ]
          },
          "metadata": {
            "tags": []
          },
          "execution_count": 58
        }
      ]
    },
    {
      "cell_type": "code",
      "metadata": {
        "id": "ySyhdZiOvApK",
        "colab_type": "code",
        "colab": {
          "base_uri": "https://localhost:8080/",
          "height": 34
        },
        "outputId": "1137b98b-26b2-4934-98b8-565280e543b9"
      },
      "source": [
        "operationDurations = _parameters[\"operationDurations\"]\n",
        "operationDurations"
      ],
      "execution_count": null,
      "outputs": [
        {
          "output_type": "execute_result",
          "data": {
            "text/plain": [
              "{0: 5, 1: 5, 2: 5, 3: 5, 4: 5}"
            ]
          },
          "metadata": {
            "tags": []
          },
          "execution_count": 119
        }
      ]
    },
    {
      "cell_type": "code",
      "metadata": {
        "id": "KXsehk7vGSQA",
        "colab_type": "code",
        "colab": {
          "base_uri": "https://localhost:8080/",
          "height": 167
        },
        "outputId": "6d2c228b-0b2d-44be-a92b-0dc8e451c961"
      },
      "source": [
        "operationDurations[5]"
      ],
      "execution_count": null,
      "outputs": [
        {
          "output_type": "error",
          "ename": "KeyError",
          "evalue": "ignored",
          "traceback": [
            "\u001b[0;31m---------------------------------------------------------------------------\u001b[0m",
            "\u001b[0;31mKeyError\u001b[0m                                  Traceback (most recent call last)",
            "\u001b[0;32m<ipython-input-121-dab59d035f0e>\u001b[0m in \u001b[0;36m<module>\u001b[0;34m()\u001b[0m\n\u001b[0;32m----> 1\u001b[0;31m \u001b[0moperationDurations\u001b[0m\u001b[0;34m[\u001b[0m\u001b[0;36m5\u001b[0m\u001b[0;34m]\u001b[0m\u001b[0;34m\u001b[0m\u001b[0;34m\u001b[0m\u001b[0m\n\u001b[0m",
            "\u001b[0;31mKeyError\u001b[0m: 5"
          ]
        }
      ]
    },
    {
      "cell_type": "code",
      "metadata": {
        "id": "nGeQDc2-5GaB",
        "colab_type": "code",
        "colab": {
          "base_uri": "https://localhost:8080/",
          "height": 34
        },
        "outputId": "f59a60dc-8afa-4239-f6b3-7219c6f671d4"
      },
      "source": [
        "operationCount = len(operationDurations )\n",
        "operationCount"
      ],
      "execution_count": null,
      "outputs": [
        {
          "output_type": "execute_result",
          "data": {
            "text/plain": [
              "5"
            ]
          },
          "metadata": {
            "tags": []
          },
          "execution_count": 65
        }
      ]
    },
    {
      "cell_type": "code",
      "metadata": {
        "id": "Zra5xjcsu4Hz",
        "colab_type": "code",
        "colab": {
          "base_uri": "https://localhost:8080/",
          "height": 34
        },
        "outputId": "2165ff0e-1ab9-41e4-fe97-9d121ad4bbff"
      },
      "source": [
        "operationMaxTime = sum(operationDurations.values() )\n",
        "operationMaxTime"
      ],
      "execution_count": null,
      "outputs": [
        {
          "output_type": "execute_result",
          "data": {
            "text/plain": [
              "25"
            ]
          },
          "metadata": {
            "tags": []
          },
          "execution_count": 63
        }
      ]
    },
    {
      "cell_type": "code",
      "metadata": {
        "id": "IpaAyOz4vI94",
        "colab_type": "code",
        "colab": {
          "base_uri": "https://localhost:8080/",
          "height": 34
        },
        "outputId": "de25a6fb-3e0f-4940-bd2f-b7f33c0a31fa"
      },
      "source": [
        "import random\n",
        "[ random.randint( 0, operationMaxTime ) for o in range( operationCount ) ]"
      ],
      "execution_count": null,
      "outputs": [
        {
          "output_type": "execute_result",
          "data": {
            "text/plain": [
              "[11, 1, 25, 8, 23]"
            ]
          },
          "metadata": {
            "tags": []
          },
          "execution_count": 70
        }
      ]
    },
    {
      "cell_type": "code",
      "metadata": {
        "id": "Ie3Z6Lzu9xP_",
        "colab_type": "code",
        "colab": {
          "base_uri": "https://localhost:8080/",
          "height": 34
        },
        "outputId": "004ab4a3-057a-4ccf-e6b3-27c393bba102"
      },
      "source": [
        "resourceCount"
      ],
      "execution_count": null,
      "outputs": [
        {
          "output_type": "execute_result",
          "data": {
            "text/plain": [
              "1"
            ]
          },
          "metadata": {
            "tags": []
          },
          "execution_count": 76
        }
      ]
    },
    {
      "cell_type": "code",
      "metadata": {
        "id": "H2gF4hER9Rus",
        "colab_type": "code",
        "colab": {
          "base_uri": "https://localhost:8080/",
          "height": 34
        },
        "outputId": "0be8ac33-ff70-4d4f-d823-49106c0b11b2"
      },
      "source": [
        "[ random.randint( 0,  resourceCount - 1 ) for o in range(  operationCount ) ]"
      ],
      "execution_count": null,
      "outputs": [
        {
          "output_type": "execute_result",
          "data": {
            "text/plain": [
              "[1, 4, 2, 3, 2]"
            ]
          },
          "metadata": {
            "tags": []
          },
          "execution_count": 82
        }
      ]
    },
    {
      "cell_type": "code",
      "metadata": {
        "id": "DRVUdIV-6fMk",
        "colab_type": "code",
        "colab": {
          "base_uri": "https://localhost:8080/",
          "height": 105
        },
        "outputId": "88e0557d-b225-4b49-c2ee-1a1bf5c18dee"
      },
      "source": [
        "for o in range( operationCount ):\n",
        "    print(random.randint( 0, operationMaxTime ))"
      ],
      "execution_count": null,
      "outputs": [
        {
          "output_type": "stream",
          "text": [
            "19\n",
            "5\n",
            "1\n",
            "21\n",
            "9\n"
          ],
          "name": "stdout"
        }
      ]
    },
    {
      "cell_type": "code",
      "metadata": {
        "id": "iAaGIDKm_3jM",
        "colab_type": "code",
        "colab": {}
      },
      "source": [
        "population = []"
      ],
      "execution_count": null,
      "outputs": []
    },
    {
      "cell_type": "code",
      "metadata": {
        "id": "GCtAX21kAXQS",
        "colab_type": "code",
        "colab": {}
      },
      "source": [
        "start_times = [ random.randint( 0, operationMaxTime ) for o in range( operationCount ) ]\n",
        "resources = [ random.randint( 0, resourceCount - 1 ) for o in range( operationCount ) ]"
      ],
      "execution_count": null,
      "outputs": []
    },
    {
      "cell_type": "code",
      "metadata": {
        "id": "Gvs9qsTO_5U_",
        "colab_type": "code",
        "colab": {}
      },
      "source": [
        "population.append( { \"start_times\": list( start_times ), \"resources\": list( resources ), \"score\": 2, \"genome\": \"\" } )"
      ],
      "execution_count": null,
      "outputs": []
    },
    {
      "cell_type": "code",
      "metadata": {
        "id": "UG4ERRMuAko9",
        "colab_type": "code",
        "colab": {
          "base_uri": "https://localhost:8080/",
          "height": 230
        },
        "outputId": "b1c30f2d-2368-4fb1-fe7a-10bdd995e155"
      },
      "source": [
        "population"
      ],
      "execution_count": null,
      "outputs": [
        {
          "output_type": "execute_result",
          "data": {
            "text/plain": [
              "[{'genome': '',\n",
              "  'resources': [3, 2, 1, 3, 3],\n",
              "  'score': 0,\n",
              "  'start_times': [4, 18, 5, 19, 11]},\n",
              " {'genome': '',\n",
              "  'resources': [3, 2, 1, 3, 3],\n",
              "  'score': 2,\n",
              "  'start_times': [4, 18, 5, 19, 11]},\n",
              " {'genome': '',\n",
              "  'resources': [3, 2, 1, 3, 3],\n",
              "  'score': 2,\n",
              "  'start_times': [4, 18, 5, 19, 11]}]"
            ]
          },
          "metadata": {
            "tags": []
          },
          "execution_count": 102
        }
      ]
    },
    {
      "cell_type": "code",
      "metadata": {
        "id": "G7YsiOD4Apy3",
        "colab_type": "code",
        "colab": {
          "base_uri": "https://localhost:8080/",
          "height": 70
        },
        "outputId": "a91d8635-31e4-415a-c858-f29a900ca691"
      },
      "source": [
        "for p in population:\n",
        "    print(p[\"score\"])"
      ],
      "execution_count": null,
      "outputs": [
        {
          "output_type": "stream",
          "text": [
            "0\n",
            "2\n",
            "2\n"
          ],
          "name": "stdout"
        }
      ]
    },
    {
      "cell_type": "code",
      "metadata": {
        "id": "SiAsScDYHZ4K",
        "colab_type": "code",
        "colab": {
          "base_uri": "https://localhost:8080/",
          "height": 34
        },
        "outputId": "0e4dd617-4229-4371-c035-024dd7758e31"
      },
      "source": [
        "operationDurations"
      ],
      "execution_count": null,
      "outputs": [
        {
          "output_type": "execute_result",
          "data": {
            "text/plain": [
              "{0: 5, 1: 5, 2: 5, 3: 5, 4: 5}"
            ]
          },
          "metadata": {
            "tags": []
          },
          "execution_count": 122
        }
      ]
    },
    {
      "cell_type": "code",
      "metadata": {
        "id": "0Bdgu9-MCs47",
        "colab_type": "code",
        "colab": {
          "base_uri": "https://localhost:8080/",
          "height": 70
        },
        "outputId": "b1b4e66d-e633-4960-907f-4482eed5f300"
      },
      "source": [
        "for op2 in operationRelations:\n",
        "    start2 = p[\"start_times\"][op2]\n",
        "    print([start2],[op2])\n",
        "    end1 = p[ \"start_times\" ][ op1 ] + operationDurations[ op1 ]"
      ],
      "execution_count": null,
      "outputs": [
        {
          "output_type": "stream",
          "text": [
            "[4] [0]\n",
            "[11] [4]\n",
            "[5] [2]\n"
          ],
          "name": "stdout"
        }
      ]
    },
    {
      "cell_type": "code",
      "metadata": {
        "id": "_irXOIOMC8NO",
        "colab_type": "code",
        "colab": {
          "base_uri": "https://localhost:8080/",
          "height": 34
        },
        "outputId": "590a6806-c7f2-4da2-eabe-48f03ccc3894"
      },
      "source": [
        "start2"
      ],
      "execution_count": null,
      "outputs": [
        {
          "output_type": "execute_result",
          "data": {
            "text/plain": [
              "5"
            ]
          },
          "metadata": {
            "tags": []
          },
          "execution_count": 113
        }
      ]
    },
    {
      "cell_type": "code",
      "metadata": {
        "id": "Tp4IAw-PDKsC",
        "colab_type": "code",
        "colab": {
          "base_uri": "https://localhost:8080/",
          "height": 34
        },
        "outputId": "a72ba7a4-c78a-422f-d984-4458a8334eda"
      },
      "source": [
        "p[\"start_times\"]"
      ],
      "execution_count": null,
      "outputs": [
        {
          "output_type": "execute_result",
          "data": {
            "text/plain": [
              "[4, 18, 5, 19, 11]"
            ]
          },
          "metadata": {
            "tags": []
          },
          "execution_count": 117
        }
      ]
    },
    {
      "cell_type": "code",
      "metadata": {
        "id": "mvuGjxljDQhS",
        "colab_type": "code",
        "colab": {
          "base_uri": "https://localhost:8080/",
          "height": 87
        },
        "outputId": "0aadf601-a7c8-47f1-cee8-5923165c6dc5"
      },
      "source": [
        "operationRelations"
      ],
      "execution_count": null,
      "outputs": [
        {
          "output_type": "execute_result",
          "data": {
            "text/plain": [
              "{0: {3: {'max': 0, 'min': 0, 'type': 'ES', 'weight': 1}},\n",
              " 2: {1: {'max': 11, 'min': 11, 'type': 'SS', 'weight': 1}},\n",
              " 4: {0: {'max': 5, 'min': 5, 'type': 'ES', 'weight': 1},\n",
              "  1: {'max': 5, 'min': 5, 'type': 'EE', 'weight': 1}}}"
            ]
          },
          "metadata": {
            "tags": []
          },
          "execution_count": 123
        }
      ]
    },
    {
      "cell_type": "code",
      "metadata": {
        "id": "tq7a-HvJ0jRN",
        "colab_type": "code",
        "colab": {}
      },
      "source": [
        ""
      ],
      "execution_count": null,
      "outputs": []
    },
    {
      "cell_type": "code",
      "metadata": {
        "id": "CG5A95Ee0jMs",
        "colab_type": "code",
        "colab": {}
      },
      "source": [
        ""
      ],
      "execution_count": null,
      "outputs": []
    },
    {
      "cell_type": "code",
      "metadata": {
        "id": "P4QXxUcg0jIj",
        "colab_type": "code",
        "colab": {}
      },
      "source": [
        ""
      ],
      "execution_count": null,
      "outputs": []
    },
    {
      "cell_type": "code",
      "metadata": {
        "id": "9yPEIsyp0jDx",
        "colab_type": "code",
        "colab": {
          "base_uri": "https://localhost:8080/",
          "height": 387
        },
        "outputId": "9aad5e6c-0d0c-4c2c-e018-b58463c9e1c6"
      },
      "source": [
        "from __future__ import print_function\n",
        "from itertools import combinations, permutations\n",
        "# Import Python wrapper for or-tools constraint solver.\n",
        "# from ortools.constraint_solver import pywrapcp\n",
        "import random\n",
        "import numpy as np\n",
        "\n",
        "\n",
        "def getdatas(machines, processing_times, sol_line_tasks, sol_line):\n",
        "    numberofjob = len(machines)\n",
        "    numberofmashine = len(machines[0])\n",
        "\n",
        "    # get the sum processing time for every macshine\n",
        "    sumtimeforeachmachine = np.zeros((numberofmashine))\n",
        "    for i in range(numberofjob):\n",
        "        for j in range(numberofmashine):\n",
        "            for m in range(numberofmashine):\n",
        "\n",
        "                if machines[i][j] == m:\n",
        "                    sumtimeforeachmachine[m] += processing_times[i][j]\n",
        "\n",
        "    sumtimeforeachjob = np.array(processing_times).sum(1)\n",
        "\n",
        "    sumprosessingtime = [np.array(processing_times).sum().sum()]\n",
        "    avetime_machine = sumtimeforeachmachine.sum()/numberofmashine\n",
        "    avetime_job = sumtimeforeachjob.sum()/numberofjob\n",
        "\n",
        "    datas = []\n",
        "    id = 0\n",
        "    for i in range(numberofjob):\n",
        "        for j in range(numberofmashine):\n",
        "            data1 = [\n",
        "                id,                                    # id\n",
        "                1/numberofjob,\n",
        "                1/numberofmashine,\n",
        "                j/numberofmashine,\n",
        "                sumtimeforeachmachine[j]/avetime_machine,\n",
        "                sumtimeforeachjob[i]/avetime_job,\n",
        "                processing_times[i][j]/sumtimeforeachmachine[j],\n",
        "                processing_times[i][j]/sumtimeforeachjob[i],\n",
        "                machines[i][j]/numberofmashine,\n",
        "            ]\n",
        "            data2 = []\n",
        "            for ii in range(numberofjob):\n",
        "                for jj in range(numberofmashine):\n",
        "                    data2.append(\n",
        "                        processing_times[ii][jj] / sumprosessingtime[0])\n",
        "\n",
        "            data3 = []\n",
        "            for ii in range(numberofjob):\n",
        "                for jj in range(numberofmashine):\n",
        "                    data3.append(machines[ii][jj] / numberofmashine)\n",
        "            a = sol_line_tasks.find(str(i)+'_'+str(j))\n",
        "            b = a % (11 + numberofjob * 10 + 1)\n",
        "            # b = a % 82\n",
        "            c = b - 11\n",
        "            data4 = [c // 10]+[machines[i][j]]\n",
        "            # print(data4)\n",
        "\n",
        "            data = data1+data2+data3+data4\n",
        "            datas.append(data)\n",
        "            id += 1\n",
        "    return datas\n",
        "\n",
        "\n",
        "def gettraindata(name, m, n, time_low, time_high, numofloop,i=0):\n",
        "    # machines is the workpiece processing sequence\n",
        "        # line i is job i\n",
        "        # row j is mashine j\n",
        "        # means that job i's processing sequence\n",
        "    # processing_time is the processing time of job i processing j\n",
        "    # fzzl = open('./data/withoutsolute_log_' + name + '.txt', 'a')\n",
        "    fzzl = open('/content/ZLP20-0.txt', 'a')\n",
        "    datatosave = []\n",
        "    a = list(range(time_low, time_high))\n",
        "\n",
        "    processing_times = []\n",
        "    for k in range(n):\n",
        "        processing_times.append(random.sample(a, m))\n",
        "\n",
        "    pssave = np.array(processing_times)\n",
        "    np.savetxt('./data/pssave_' + name + '.csv',\n",
        "               pssave, fmt='%d', delimiter=',')\n",
        "\n",
        "    for i in range(numofloop):\n",
        "        print(i, file=fzzl)\n",
        "        a = list(range(m))\n",
        "        machines = []\n",
        "        for k in range(n):\n",
        "            machines.append(random.sample(a, m))\n",
        "\n",
        "        print('machines', file=fzzl)\n",
        "        print(machines, file=fzzl)\n",
        "\n",
        "        print('processing_times', file=fzzl)\n",
        "        print(processing_times, file=fzzl)\n",
        "\n",
        "\n",
        "if __name__ == '__main__':\n",
        "    m = 20\n",
        "    n = 20\n",
        "    time_low = 15\n",
        "    time_high = 45\n",
        "    numofloop = 2000\n",
        "\n",
        "    for i in range(11):\n",
        "        gettraindata('traindata_'+'m='+str(m)+'_n='+str(n) +\n",
        "                    '_timelow='+str(time_low)+'_timehight='+str(time_high)\n",
        "                    + '_numofloop='+str(numofloop), m=m, n=n, time_low=time_low,\n",
        "                    time_high=time_high, numofloop=numofloop,i=i)"
      ],
      "execution_count": null,
      "outputs": [
        {
          "output_type": "error",
          "ename": "FileNotFoundError",
          "evalue": "ignored",
          "traceback": [
            "\u001b[0;31m---------------------------------------------------------------------------\u001b[0m",
            "\u001b[0;31mFileNotFoundError\u001b[0m                         Traceback (most recent call last)",
            "\u001b[0;32m<ipython-input-2-6dfe443d9e24>\u001b[0m in \u001b[0;36m<module>\u001b[0;34m()\u001b[0m\n\u001b[1;32m    108\u001b[0m                     \u001b[0;34m'_timelow='\u001b[0m\u001b[0;34m+\u001b[0m\u001b[0mstr\u001b[0m\u001b[0;34m(\u001b[0m\u001b[0mtime_low\u001b[0m\u001b[0;34m)\u001b[0m\u001b[0;34m+\u001b[0m\u001b[0;34m'_timehight='\u001b[0m\u001b[0;34m+\u001b[0m\u001b[0mstr\u001b[0m\u001b[0;34m(\u001b[0m\u001b[0mtime_high\u001b[0m\u001b[0;34m)\u001b[0m\u001b[0;34m\u001b[0m\u001b[0;34m\u001b[0m\u001b[0m\n\u001b[1;32m    109\u001b[0m                     \u001b[0;34m+\u001b[0m \u001b[0;34m'_numofloop='\u001b[0m\u001b[0;34m+\u001b[0m\u001b[0mstr\u001b[0m\u001b[0;34m(\u001b[0m\u001b[0mnumofloop\u001b[0m\u001b[0;34m)\u001b[0m\u001b[0;34m,\u001b[0m \u001b[0mm\u001b[0m\u001b[0;34m=\u001b[0m\u001b[0mm\u001b[0m\u001b[0;34m,\u001b[0m \u001b[0mn\u001b[0m\u001b[0;34m=\u001b[0m\u001b[0mn\u001b[0m\u001b[0;34m,\u001b[0m \u001b[0mtime_low\u001b[0m\u001b[0;34m=\u001b[0m\u001b[0mtime_low\u001b[0m\u001b[0;34m,\u001b[0m\u001b[0;34m\u001b[0m\u001b[0;34m\u001b[0m\u001b[0m\n\u001b[0;32m--> 110\u001b[0;31m                     time_high=time_high, numofloop=numofloop,i=i)\n\u001b[0m",
            "\u001b[0;32m<ipython-input-2-6dfe443d9e24>\u001b[0m in \u001b[0;36mgettraindata\u001b[0;34m(name, m, n, time_low, time_high, numofloop, i)\u001b[0m\n\u001b[1;32m     81\u001b[0m     \u001b[0mpssave\u001b[0m \u001b[0;34m=\u001b[0m \u001b[0mnp\u001b[0m\u001b[0;34m.\u001b[0m\u001b[0marray\u001b[0m\u001b[0;34m(\u001b[0m\u001b[0mprocessing_times\u001b[0m\u001b[0;34m)\u001b[0m\u001b[0;34m\u001b[0m\u001b[0;34m\u001b[0m\u001b[0m\n\u001b[1;32m     82\u001b[0m     np.savetxt('./data/pssave_' + name + '.csv',\n\u001b[0;32m---> 83\u001b[0;31m                pssave, fmt='%d', delimiter=',')\n\u001b[0m\u001b[1;32m     84\u001b[0m \u001b[0;34m\u001b[0m\u001b[0m\n\u001b[1;32m     85\u001b[0m     \u001b[0;32mfor\u001b[0m \u001b[0mi\u001b[0m \u001b[0;32min\u001b[0m \u001b[0mrange\u001b[0m\u001b[0;34m(\u001b[0m\u001b[0mnumofloop\u001b[0m\u001b[0;34m)\u001b[0m\u001b[0;34m:\u001b[0m\u001b[0;34m\u001b[0m\u001b[0;34m\u001b[0m\u001b[0m\n",
            "\u001b[0;32m<__array_function__ internals>\u001b[0m in \u001b[0;36msavetxt\u001b[0;34m(*args, **kwargs)\u001b[0m\n",
            "\u001b[0;32m/usr/local/lib/python3.6/dist-packages/numpy/lib/npyio.py\u001b[0m in \u001b[0;36msavetxt\u001b[0;34m(fname, X, fmt, delimiter, newline, header, footer, comments, encoding)\u001b[0m\n\u001b[1;32m   1375\u001b[0m     \u001b[0;32mif\u001b[0m \u001b[0m_is_string_like\u001b[0m\u001b[0;34m(\u001b[0m\u001b[0mfname\u001b[0m\u001b[0;34m)\u001b[0m\u001b[0;34m:\u001b[0m\u001b[0;34m\u001b[0m\u001b[0;34m\u001b[0m\u001b[0m\n\u001b[1;32m   1376\u001b[0m         \u001b[0;31m# datasource doesn't support creating a new file ...\u001b[0m\u001b[0;34m\u001b[0m\u001b[0;34m\u001b[0m\u001b[0;34m\u001b[0m\u001b[0m\n\u001b[0;32m-> 1377\u001b[0;31m         \u001b[0mopen\u001b[0m\u001b[0;34m(\u001b[0m\u001b[0mfname\u001b[0m\u001b[0;34m,\u001b[0m \u001b[0;34m'wt'\u001b[0m\u001b[0;34m)\u001b[0m\u001b[0;34m.\u001b[0m\u001b[0mclose\u001b[0m\u001b[0;34m(\u001b[0m\u001b[0;34m)\u001b[0m\u001b[0;34m\u001b[0m\u001b[0;34m\u001b[0m\u001b[0m\n\u001b[0m\u001b[1;32m   1378\u001b[0m         \u001b[0mfh\u001b[0m \u001b[0;34m=\u001b[0m \u001b[0mnp\u001b[0m\u001b[0;34m.\u001b[0m\u001b[0mlib\u001b[0m\u001b[0;34m.\u001b[0m\u001b[0m_datasource\u001b[0m\u001b[0;34m.\u001b[0m\u001b[0mopen\u001b[0m\u001b[0;34m(\u001b[0m\u001b[0mfname\u001b[0m\u001b[0;34m,\u001b[0m \u001b[0;34m'wt'\u001b[0m\u001b[0;34m,\u001b[0m \u001b[0mencoding\u001b[0m\u001b[0;34m=\u001b[0m\u001b[0mencoding\u001b[0m\u001b[0;34m)\u001b[0m\u001b[0;34m\u001b[0m\u001b[0;34m\u001b[0m\u001b[0m\n\u001b[1;32m   1379\u001b[0m         \u001b[0mown_fh\u001b[0m \u001b[0;34m=\u001b[0m \u001b[0;32mTrue\u001b[0m\u001b[0;34m\u001b[0m\u001b[0;34m\u001b[0m\u001b[0m\n",
            "\u001b[0;31mFileNotFoundError\u001b[0m: [Errno 2] No such file or directory: './data/pssave_traindata_m=20_n=20_timelow=15_timehight=45_numofloop=2000.csv'"
          ]
        }
      ]
    },
    {
      "cell_type": "code",
      "metadata": {
        "id": "RegO38QK0jAo",
        "colab_type": "code",
        "colab": {}
      },
      "source": [
        ""
      ],
      "execution_count": null,
      "outputs": []
    }
  ]
}